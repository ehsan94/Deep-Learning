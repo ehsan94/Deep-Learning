{
  "nbformat": 4,
  "nbformat_minor": 0,
  "metadata": {
    "colab": {
      "name": "Autoregressive Model.ipynb",
      "provenance": [],
      "authorship_tag": "ABX9TyPrY63g06hYZt9hNT+jDKZJ",
      "include_colab_link": true
    },
    "kernelspec": {
      "name": "python3",
      "display_name": "Python 3"
    },
    "accelerator": "GPU"
  },
  "cells": [
    {
      "cell_type": "markdown",
      "metadata": {
        "id": "view-in-github",
        "colab_type": "text"
      },
      "source": [
        "<a href=\"https://colab.research.google.com/github/ehsan94/Deep-Learning/blob/master/Autoregressive_Model.ipynb\" target=\"_parent\"><img src=\"https://colab.research.google.com/assets/colab-badge.svg\" alt=\"Open In Colab\"/></a>"
      ]
    },
    {
      "cell_type": "code",
      "metadata": {
        "id": "e4omqJXpNdPk",
        "colab_type": "code",
        "colab": {
          "base_uri": "https://localhost:8080/",
          "height": 119
        },
        "outputId": "64420296-d757-41fa-b757-785209d4aad5"
      },
      "source": [
        "try:\n",
        "  %tensorflow_version 2.x  # Colab only.\n",
        "except Exception:\n",
        "  pass\n",
        "\n",
        "import tensorflow as tf\n",
        "print(tf.__version__)"
      ],
      "execution_count": 2,
      "outputs": [
        {
          "output_type": "stream",
          "text": [
            "`%tensorflow_version` only switches the major version: 1.x or 2.x.\n",
            "You set: `2.x  # Colab only.`. This will be interpreted as: `2.x`.\n",
            "\n",
            "\n",
            "TensorFlow is already loaded. Please restart the runtime to change versions.\n",
            "2.2.0-rc2\n"
          ],
          "name": "stdout"
        }
      ]
    },
    {
      "cell_type": "code",
      "metadata": {
        "id": "wDOeMk2EO1My",
        "colab_type": "code",
        "colab": {}
      },
      "source": [
        "from tensorflow.keras.layers import Input, Dense\n",
        "from tensorflow.keras.models import Model\n",
        "from tensorflow.keras.optimizers import SGD, Adam\n",
        "\n",
        "import numpy as np\n",
        "import pandas as pd\n",
        "import matplotlib.pyplot as plt"
      ],
      "execution_count": 0,
      "outputs": []
    },
    {
      "cell_type": "code",
      "metadata": {
        "id": "Z41te_PdPBkn",
        "colab_type": "code",
        "colab": {
          "base_uri": "https://localhost:8080/",
          "height": 265
        },
        "outputId": "20e49515-31c4-431a-c46b-da3d96800d86"
      },
      "source": [
        "# make the original data\n",
        "series = np.sin(0.1*np.arange(200)) #+ np.random.randn(200)*0.1\n",
        "\n",
        "# plot it\n",
        "plt.plot(series)\n",
        "plt.show()"
      ],
      "execution_count": 4,
      "outputs": [
        {
          "output_type": "display_data",
          "data": {
            "image/png": "[encoded data removed]",
            "text/plain": [
              "<Figure size 432x288 with 1 Axes>"
            ]
          },
          "metadata": {
            "tags": []
          }
        }
      ]
    },
    {
      "cell_type": "code",
      "metadata": {
        "id": "aHA44HqaPOLw",
        "colab_type": "code",
        "colab": {
          "base_uri": "https://localhost:8080/",
          "height": 34
        },
        "outputId": "85da843e-b300-4f46-e08a-9d8584c8d6b9"
      },
      "source": [
        "### build the dataset\n",
        "# let's see if we can use T past values to predict the next value\n",
        "T = 10\n",
        "X = []\n",
        "Y = []\n",
        "for t in range(len(series) - T):\n",
        "  x = series[t:t+T]\n",
        "  X.append(x)\n",
        "  y = series[t+T]\n",
        "  Y.append(y)\n",
        "\n",
        "X = np.array(X).reshape(-1, T)\n",
        "Y = np.array(Y)\n",
        "N = len(X)\n",
        "print(\"X.shape\", X.shape, \"Y.shape\", Y.shape)"
      ],
      "execution_count": 5,
      "outputs": [
        {
          "output_type": "stream",
          "text": [
            "X.shape (190, 10) Y.shape (190,)\n"
          ],
          "name": "stdout"
        }
      ]
    },
    {
      "cell_type": "code",
      "metadata": {
        "id": "NIAcC2ZDPYWT",
        "colab_type": "code",
        "colab": {
          "base_uri": "https://localhost:8080/",
          "height": 1000
        },
        "outputId": "d3c7c9d0-a622-4960-f736-1486863960b7"
      },
      "source": [
        "### try autoregressive linear model\n",
        "i = Input(shape=(T,))\n",
        "x = Dense(1)(i)\n",
        "model = Model(i, x)\n",
        "model.compile(\n",
        "  loss='mse',\n",
        "  optimizer=Adam(lr=0.1),\n",
        ")\n",
        "\n",
        "# train the RNN\n",
        "r = model.fit(\n",
        "  X[:-N//2], Y[:-N//2],\n",
        "  epochs=80,\n",
        "  validation_data=(X[-N//2:], Y[-N//2:]),\n",
        ")"
      ],
      "execution_count": 6,
      "outputs": [
        {
          "output_type": "stream",
          "text": [
            "Epoch 1/80\n",
            "3/3 [==============================] - 0s 44ms/step - loss: 0.6282 - val_loss: 0.4796\n",
            "Epoch 2/80\n",
            "3/3 [==============================] - 0s 10ms/step - loss: 0.4367 - val_loss: 0.1488\n",
            "Epoch 3/80\n",
            "3/3 [==============================] - 0s 10ms/step - loss: 0.1133 - val_loss: 0.1512\n",
            "Epoch 4/80\n",
            "3/3 [==============================] - 0s 10ms/step - loss: 0.1601 - val_loss: 0.0324\n",
            "Epoch 5/80\n",
            "3/3 [==============================] - 0s 10ms/step - loss: 0.0323 - val_loss: 0.0786\n",
            "Epoch 6/80\n",
            "3/3 [==============================] - 0s 10ms/step - loss: 0.0710 - val_loss: 0.0274\n",
            "Epoch 7/80\n",
            "3/3 [==============================] - 0s 11ms/step - loss: 0.0262 - val_loss: 0.0696\n",
            "Epoch 8/80\n",
            "3/3 [==============================] - 0s 11ms/step - loss: 0.0561 - val_loss: 0.0593\n",
            "Epoch 9/80\n",
            "3/3 [==============================] - 0s 10ms/step - loss: 0.0258 - val_loss: 0.0241\n",
            "Epoch 10/80\n",
            "3/3 [==============================] - 0s 10ms/step - loss: 0.0268 - val_loss: 0.0201\n",
            "Epoch 11/80\n",
            "3/3 [==============================] - 0s 10ms/step - loss: 0.0142 - val_loss: 0.0046\n",
            "Epoch 12/80\n",
            "3/3 [==============================] - 0s 9ms/step - loss: 0.0109 - val_loss: 0.0049\n",
            "Epoch 13/80\n",
            "3/3 [==============================] - 0s 9ms/step - loss: 0.0042 - val_loss: 0.0050\n",
            "Epoch 14/80\n",
            "3/3 [==============================] - 0s 10ms/step - loss: 0.0059 - val_loss: 0.0051\n",
            "Epoch 15/80\n",
            "3/3 [==============================] - 0s 10ms/step - loss: 0.0033 - val_loss: 0.0049\n",
            "Epoch 16/80\n",
            "3/3 [==============================] - 0s 10ms/step - loss: 0.0057 - val_loss: 0.0042\n",
            "Epoch 17/80\n",
            "3/3 [==============================] - 0s 10ms/step - loss: 0.0027 - val_loss: 0.0022\n",
            "Epoch 18/80\n",
            "3/3 [==============================] - 0s 11ms/step - loss: 0.0027 - val_loss: 9.1602e-04\n",
            "Epoch 19/80\n",
            "3/3 [==============================] - 0s 10ms/step - loss: 5.1737e-04 - val_loss: 8.1783e-04\n",
            "Epoch 20/80\n",
            "3/3 [==============================] - 0s 10ms/step - loss: 0.0011 - val_loss: 1.8043e-04\n",
            "Epoch 21/80\n",
            "3/3 [==============================] - 0s 10ms/step - loss: 4.2281e-04 - val_loss: 7.9468e-04\n",
            "Epoch 22/80\n",
            "3/3 [==============================] - 0s 10ms/step - loss: 6.0532e-04 - val_loss: 5.3316e-04\n",
            "Epoch 23/80\n",
            "3/3 [==============================] - 0s 10ms/step - loss: 5.2399e-04 - val_loss: 8.1768e-04\n",
            "Epoch 24/80\n",
            "3/3 [==============================] - 0s 9ms/step - loss: 3.3051e-04 - val_loss: 2.2097e-04\n",
            "Epoch 25/80\n",
            "3/3 [==============================] - 0s 10ms/step - loss: 2.6093e-04 - val_loss: 6.3295e-05\n",
            "Epoch 26/80\n",
            "3/3 [==============================] - 0s 10ms/step - loss: 6.8463e-05 - val_loss: 1.0520e-04\n",
            "Epoch 27/80\n",
            "3/3 [==============================] - 0s 11ms/step - loss: 1.2710e-04 - val_loss: 9.6870e-05\n",
            "Epoch 28/80\n",
            "3/3 [==============================] - 0s 13ms/step - loss: 9.4828e-05 - val_loss: 1.1632e-04\n",
            "Epoch 29/80\n",
            "3/3 [==============================] - 0s 11ms/step - loss: 6.6331e-05 - val_loss: 9.4513e-05\n",
            "Epoch 30/80\n",
            "3/3 [==============================] - 0s 10ms/step - loss: 9.2570e-05 - val_loss: 3.0328e-05\n",
            "Epoch 31/80\n",
            "3/3 [==============================] - 0s 10ms/step - loss: 3.7429e-05 - val_loss: 3.7412e-05\n",
            "Epoch 32/80\n",
            "3/3 [==============================] - 0s 10ms/step - loss: 1.8200e-05 - val_loss: 6.4168e-06\n",
            "Epoch 33/80\n",
            "3/3 [==============================] - 0s 10ms/step - loss: 1.7887e-05 - val_loss: 7.4458e-06\n",
            "Epoch 34/80\n",
            "3/3 [==============================] - 0s 10ms/step - loss: 1.2079e-05 - val_loss: 1.9521e-05\n",
            "Epoch 35/80\n",
            "3/3 [==============================] - 0s 10ms/step - loss: 1.5323e-05 - val_loss: 1.3202e-05\n",
            "Epoch 36/80\n",
            "3/3 [==============================] - 0s 10ms/step - loss: 1.1049e-05 - val_loss: 9.0697e-06\n",
            "Epoch 37/80\n",
            "3/3 [==============================] - 0s 11ms/step - loss: 4.4742e-06 - val_loss: 5.5910e-06\n",
            "Epoch 38/80\n",
            "3/3 [==============================] - 0s 9ms/step - loss: 3.6694e-06 - val_loss: 2.1759e-06\n",
            "Epoch 39/80\n",
            "3/3 [==============================] - 0s 10ms/step - loss: 4.7579e-06 - val_loss: 2.6623e-06\n",
            "Epoch 40/80\n",
            "3/3 [==============================] - 0s 10ms/step - loss: 2.3794e-06 - val_loss: 3.4695e-06\n",
            "Epoch 41/80\n",
            "3/3 [==============================] - 0s 10ms/step - loss: 2.5729e-06 - val_loss: 1.6832e-06\n",
            "Epoch 42/80\n",
            "3/3 [==============================] - 0s 10ms/step - loss: 1.5280e-06 - val_loss: 3.3266e-07\n",
            "Epoch 43/80\n",
            "3/3 [==============================] - 0s 10ms/step - loss: 3.5060e-07 - val_loss: 6.9670e-07\n",
            "Epoch 44/80\n",
            "3/3 [==============================] - 0s 10ms/step - loss: 3.9891e-07 - val_loss: 3.7120e-07\n",
            "Epoch 45/80\n",
            "3/3 [==============================] - 0s 10ms/step - loss: 6.3404e-07 - val_loss: 2.8327e-07\n",
            "Epoch 46/80\n",
            "3/3 [==============================] - 0s 11ms/step - loss: 3.2003e-07 - val_loss: 3.2202e-07\n",
            "Epoch 47/80\n",
            "3/3 [==============================] - 0s 10ms/step - loss: 2.1597e-07 - val_loss: 3.3473e-07\n",
            "Epoch 48/80\n",
            "3/3 [==============================] - 0s 10ms/step - loss: 1.5022e-07 - val_loss: 1.2609e-08\n",
            "Epoch 49/80\n",
            "3/3 [==============================] - 0s 9ms/step - loss: 4.0117e-08 - val_loss: 1.6017e-07\n",
            "Epoch 50/80\n",
            "3/3 [==============================] - 0s 9ms/step - loss: 9.1434e-08 - val_loss: 1.4214e-07\n",
            "Epoch 51/80\n",
            "3/3 [==============================] - 0s 10ms/step - loss: 1.0997e-07 - val_loss: 5.0983e-08\n",
            "Epoch 52/80\n",
            "3/3 [==============================] - 0s 10ms/step - loss: 3.9458e-08 - val_loss: 2.0615e-08\n",
            "Epoch 53/80\n",
            "3/3 [==============================] - 0s 9ms/step - loss: 2.8281e-08 - val_loss: 2.4667e-08\n",
            "Epoch 54/80\n",
            "3/3 [==============================] - 0s 10ms/step - loss: 7.5649e-09 - val_loss: 1.3017e-08\n",
            "Epoch 55/80\n",
            "3/3 [==============================] - 0s 10ms/step - loss: 1.5412e-08 - val_loss: 1.5192e-08\n",
            "Epoch 56/80\n",
            "3/3 [==============================] - 0s 11ms/step - loss: 1.9024e-08 - val_loss: 8.2880e-09\n",
            "Epoch 57/80\n",
            "3/3 [==============================] - 0s 9ms/step - loss: 7.3295e-09 - val_loss: 4.1460e-09\n",
            "Epoch 58/80\n",
            "3/3 [==============================] - 0s 12ms/step - loss: 3.3172e-09 - val_loss: 7.2259e-09\n",
            "Epoch 59/80\n",
            "3/3 [==============================] - 0s 10ms/step - loss: 3.4497e-09 - val_loss: 1.6882e-09\n",
            "Epoch 60/80\n",
            "3/3 [==============================] - 0s 10ms/step - loss: 2.8913e-09 - val_loss: 6.7338e-09\n",
            "Epoch 61/80\n",
            "3/3 [==============================] - 0s 9ms/step - loss: 4.1324e-09 - val_loss: 3.1266e-09\n",
            "Epoch 62/80\n",
            "3/3 [==============================] - 0s 9ms/step - loss: 1.5322e-09 - val_loss: 5.5303e-10\n",
            "Epoch 63/80\n",
            "3/3 [==============================] - 0s 10ms/step - loss: 8.3153e-10 - val_loss: 1.6532e-09\n",
            "Epoch 64/80\n",
            "3/3 [==============================] - 0s 9ms/step - loss: 1.0080e-09 - val_loss: 8.4534e-10\n",
            "Epoch 65/80\n",
            "3/3 [==============================] - 0s 13ms/step - loss: 8.0080e-10 - val_loss: 9.7138e-10\n",
            "Epoch 66/80\n",
            "3/3 [==============================] - 0s 9ms/step - loss: 8.3726e-10 - val_loss: 5.0840e-10\n",
            "Epoch 67/80\n",
            "3/3 [==============================] - 0s 9ms/step - loss: 4.4698e-10 - val_loss: 1.6430e-10\n",
            "Epoch 68/80\n",
            "3/3 [==============================] - 0s 10ms/step - loss: 2.4276e-10 - val_loss: 2.8885e-10\n",
            "Epoch 69/80\n",
            "3/3 [==============================] - 0s 10ms/step - loss: 3.1582e-10 - val_loss: 1.5884e-10\n",
            "Epoch 70/80\n",
            "3/3 [==============================] - 0s 10ms/step - loss: 2.1393e-10 - val_loss: 3.4433e-10\n",
            "Epoch 71/80\n",
            "3/3 [==============================] - 0s 10ms/step - loss: 1.6648e-10 - val_loss: 1.3182e-10\n",
            "Epoch 72/80\n",
            "3/3 [==============================] - 0s 10ms/step - loss: 7.9670e-11 - val_loss: 3.3109e-11\n",
            "Epoch 73/80\n",
            "3/3 [==============================] - 0s 10ms/step - loss: 4.8591e-11 - val_loss: 9.6460e-11\n",
            "Epoch 74/80\n",
            "3/3 [==============================] - 0s 10ms/step - loss: 6.8328e-11 - val_loss: 6.2302e-11\n",
            "Epoch 75/80\n",
            "3/3 [==============================] - 0s 11ms/step - loss: 3.6808e-11 - val_loss: 3.7883e-11\n",
            "Epoch 76/80\n",
            "3/3 [==============================] - 0s 9ms/step - loss: 2.2938e-11 - val_loss: 1.2096e-11\n",
            "Epoch 77/80\n",
            "3/3 [==============================] - 0s 10ms/step - loss: 1.3036e-11 - val_loss: 6.3155e-12\n",
            "Epoch 78/80\n",
            "3/3 [==============================] - 0s 10ms/step - loss: 1.0183e-11 - val_loss: 1.1114e-11\n",
            "Epoch 79/80\n",
            "3/3 [==============================] - 0s 10ms/step - loss: 1.4246e-11 - val_loss: 6.3315e-12\n",
            "Epoch 80/80\n",
            "3/3 [==============================] - 0s 11ms/step - loss: 7.2443e-12 - val_loss: 9.9805e-12\n"
          ],
          "name": "stdout"
        }
      ]
    },
    {
      "cell_type": "code",
      "metadata": {
        "id": "3w_BAOqgPiYJ",
        "colab_type": "code",
        "colab": {
          "base_uri": "https://localhost:8080/",
          "height": 282
        },
        "outputId": "c349342a-6188-4da5-c07e-3dcd077af9bc"
      },
      "source": [
        "# Plot loss per iteration\n",
        "import matplotlib.pyplot as plt\n",
        "plt.plot(r.history['loss'], label='loss')\n",
        "plt.plot(r.history['val_loss'], label='val_loss')\n",
        "plt.legend()"
      ],
      "execution_count": 7,
      "outputs": [
        {
          "output_type": "execute_result",
          "data": {
            "text/plain": [
              "<matplotlib.legend.Legend at 0x7fad00065160>"
            ]
          },
          "metadata": {
            "tags": []
          },
          "execution_count": 7
        },
        {
          "output_type": "display_data",
          "data": {
            "image/png": "[encoded data removed]",
            "text/plain": [
              "<Figure size 432x288 with 1 Axes>"
            ]
          },
          "metadata": {
            "tags": []
          }
        }
      ]
    },
    {
      "cell_type": "code",
      "metadata": {
        "id": "HfMmmDUSPluR",
        "colab_type": "code",
        "colab": {}
      },
      "source": [
        "# \"Wrong\" forecast using true targets\n",
        "\n",
        "validation_target = Y[-N//2:]\n",
        "validation_predictions = []\n",
        "\n",
        "# index of first validation input\n",
        "i = -N//2\n",
        "\n",
        "while len(validation_predictions) < len(validation_target):\n",
        "  p = model.predict(X[i].reshape(1, -1))[0,0] # 1x1 array -> scalar\n",
        "  i += 1\n",
        "  \n",
        "  # update the predictions list\n",
        "  validation_predictions.append(p)"
      ],
      "execution_count": 0,
      "outputs": []
    },
    {
      "cell_type": "code",
      "metadata": {
        "id": "u3ZzqrGLPoXK",
        "colab_type": "code",
        "colab": {
          "base_uri": "https://localhost:8080/",
          "height": 282
        },
        "outputId": "625c8617-7525-4263-cf09-01e91368cec4"
      },
      "source": [
        "plt.plot(validation_target, label='forecast target')\n",
        "plt.plot(validation_predictions, label='forecast prediction')\n",
        "plt.legend()"
      ],
      "execution_count": 9,
      "outputs": [
        {
          "output_type": "execute_result",
          "data": {
            "text/plain": [
              "<matplotlib.legend.Legend at 0x7face631acf8>"
            ]
          },
          "metadata": {
            "tags": []
          },
          "execution_count": 9
        },
        {
          "output_type": "display_data",
          "data": {
            "image/png": "[encoded data removed]",
            "text/plain": [
              "<Figure size 432x288 with 1 Axes>"
            ]
          },
          "metadata": {
            "tags": []
          }
        }
      ]
    }
  ]
}